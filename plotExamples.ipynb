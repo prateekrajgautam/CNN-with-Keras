{
 "cells": [
  {
   "cell_type": "markdown",
   "metadata": {},
   "source": [
    "# Learn Matplotlib"
   ]
  },
  {
   "cell_type": "code",
   "execution_count": 1,
   "metadata": {},
   "outputs": [],
   "source": [
    "import numpy as np\n",
    "import pandas as pd\n",
    "import matplotlib.pyplot as plt\n",
    "import seaborn as sns"
   ]
  },
  {
   "cell_type": "code",
   "execution_count": 4,
   "metadata": {},
   "outputs": [
    {
     "ename": "NameError",
     "evalue": "name 'np' is not defined",
     "output_type": "error",
     "traceback": [
      "\u001b[0;31m---------------------------------------------------------------------------\u001b[0m",
      "\u001b[0;31mNameError\u001b[0m                                 Traceback (most recent call last)",
      "\u001b[1;32m/home/prateek/Documents/01 Now AI ML/CNN-with-Keras/plotExamples.ipynb Cell 3\u001b[0m in \u001b[0;36m<cell line: 4>\u001b[0;34m()\u001b[0m\n\u001b[1;32m      <a href='vscode-notebook-cell:/home/prateek/Documents/01%20Now%20AI%20ML/CNN-with-Keras/plotExamples.ipynb#W2sZmlsZQ%3D%3D?line=0'>1</a>\u001b[0m \u001b[39mfrom\u001b[39;00m \u001b[39mmatplotlib\u001b[39;00m\u001b[39m.\u001b[39;00m\u001b[39mpyplot\u001b[39;00m \u001b[39mimport\u001b[39;00m axes\n\u001b[0;32m----> <a href='vscode-notebook-cell:/home/prateek/Documents/01%20Now%20AI%20ML/CNN-with-Keras/plotExamples.ipynb#W2sZmlsZQ%3D%3D?line=3'>4</a>\u001b[0m x\u001b[39m=\u001b[39mnp\u001b[39m.\u001b[39marange(\u001b[39m1\u001b[39m,\u001b[39m100\u001b[39m,\u001b[39m.5\u001b[39m)\n\u001b[1;32m      <a href='vscode-notebook-cell:/home/prateek/Documents/01%20Now%20AI%20ML/CNN-with-Keras/plotExamples.ipynb#W2sZmlsZQ%3D%3D?line=4'>5</a>\u001b[0m y\u001b[39m=\u001b[39mx\u001b[39m*\u001b[39m\u001b[39m*\u001b[39m\u001b[39m2\u001b[39m\n\u001b[1;32m      <a href='vscode-notebook-cell:/home/prateek/Documents/01%20Now%20AI%20ML/CNN-with-Keras/plotExamples.ipynb#W2sZmlsZQ%3D%3D?line=6'>7</a>\u001b[0m fig\u001b[39m=\u001b[39mplt\u001b[39m.\u001b[39mfigure(figsize\u001b[39m=\u001b[39m(\u001b[39m3\u001b[39m,\u001b[39m3\u001b[39m),dpi\u001b[39m=\u001b[39m\u001b[39m100\u001b[39m)\n",
      "\u001b[0;31mNameError\u001b[0m: name 'np' is not defined"
     ]
    }
   ],
   "source": [
    "from matplotlib.pyplot import axes\n",
    "\n",
    "\n",
    "x=np.arange(1,100,.5)\n",
    "y=x**2\n",
    "\n",
    "fig=plt.figure(figsize=(3,3),dpi=100)\n",
    "plt.plot(x,y,'-r',label='x^2')\n",
    "plt.plot(x,x**2.1-y,color='#00cc00ff',label='x^2')\n",
    "\n",
    "plt.legend(['$x^2$','$x^3-x^2$'])\n",
    "\n",
    "plt.xlabel(\"X axis\")\n",
    "plt.ylabel(\"Y axis\")\n",
    "plt.title(\"TITLE\",fontdict={\"fontname\":'arial',\"fontsize\":20,'fontweight':900,'fontstyle':'italic'})\n",
    "\n",
    "\n",
    "plt.xticks([10,20,30,])\n",
    "plt.yticks([0,10,20,30, 1000])\n",
    "\n",
    "\n",
    "\n",
    "\n",
    "plt.savefig(\"image.png\",dpi=300,transparent=True,orientation='landscape')\n",
    "plt.show()"
   ]
  }
 ],
 "metadata": {
  "kernelspec": {
   "display_name": "Python 3.8.10 64-bit",
   "language": "python",
   "name": "python3"
  },
  "language_info": {
   "codemirror_mode": {
    "name": "ipython",
    "version": 3
   },
   "file_extension": ".py",
   "mimetype": "text/x-python",
   "name": "python",
   "nbconvert_exporter": "python",
   "pygments_lexer": "ipython3",
   "version": "3.8.10"
  },
  "orig_nbformat": 4,
  "vscode": {
   "interpreter": {
    "hash": "916dbcbb3f70747c44a77c7bcd40155683ae19c65e1c03b4aa3499c5328201f1"
   }
  }
 },
 "nbformat": 4,
 "nbformat_minor": 2
}
